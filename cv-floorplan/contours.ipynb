{
  "cells": [
    {
      "cell_type": "code",
      "execution_count": 2,
      "id": "e29cc378-432c-44bc-857d-1b1d991a9ae1",
      "metadata": {},
      "outputs": [],
      "source": [
        "import numpy as np\n",
        "import cv2 as cv\n",
        "import matplotlib.pyplot as plt\n",
        "from skimage.morphology import skeletonize\n",
        "\n",
        "# im = cv.imread('original_dfp/DeepFloorplan-master/output/reassembled/reassembled_E2_2.png')\n",
        "im = cv.imread('SkeletonTrace/skeleton.png')\n",
        "assert im is not None, \"file could not be read, check with os.path.exists()\"\n",
        "\n",
        "imgray = cv.cvtColor(im, cv.COLOR_BGR2GRAY)\n",
        "ret, thresh = cv.threshold(imgray, 127, 255, 0)\n"
      ]
    },
    {
      "cell_type": "code",
      "execution_count": 3,
      "id": "732c6b1a",
      "metadata": {},
      "outputs": [
        {
          "ename": "NameError",
          "evalue": "name 'contours' is not defined",
          "output_type": "error",
          "traceback": [
            "\u001b[0;31m---------------------------------------------------------------------------\u001b[0m",
            "\u001b[0;31mNameError\u001b[0m                                 Traceback (most recent call last)",
            "Cell \u001b[0;32mIn[3], line 28\u001b[0m\n\u001b[1;32m     22\u001b[0m img_height \u001b[38;5;241m=\u001b[39m im\u001b[38;5;241m.\u001b[39mshape[\u001b[38;5;241m0\u001b[39m]\n\u001b[1;32m     24\u001b[0m \u001b[38;5;66;03m# Assuming contours are already calculated\u001b[39;00m\n\u001b[1;32m     25\u001b[0m \u001b[38;5;66;03m# contours, hierarchy = cv.findContours(...)\u001b[39;00m\n\u001b[1;32m     26\u001b[0m \n\u001b[1;32m     27\u001b[0m \u001b[38;5;66;03m# Convert contours to CSV format\u001b[39;00m\n\u001b[0;32m---> 28\u001b[0m csv_data_from_contours \u001b[38;5;241m=\u001b[39m contours_to_csv(\u001b[43mcontours\u001b[49m, img_height)\n\u001b[1;32m     30\u001b[0m \u001b[38;5;66;03m# Specify the output path for the CSV file\u001b[39;00m\n\u001b[1;32m     31\u001b[0m output_csv_path \u001b[38;5;241m=\u001b[39m \u001b[38;5;124m'\u001b[39m\u001b[38;5;124mconverted_contours.csv\u001b[39m\u001b[38;5;124m'\u001b[39m\n",
            "\u001b[0;31mNameError\u001b[0m: name 'contours' is not defined"
          ]
        }
      ],
      "source": [
        "import numpy as np\n",
        "import pandas as pd\n",
        "import cv2 as cv\n",
        "\n",
        "# Function to convert and flip contours to CSV format\n",
        "def contours_to_csv(contours, img_height):\n",
        "    line_segments = []\n",
        "    for contour in contours:\n",
        "        for i in range(len(contour) - 1):\n",
        "            start_point = contour[i][0].copy()\n",
        "            end_point = contour[i + 1][0].copy()\n",
        "\n",
        "            # Flip the y-coordinates\n",
        "            start_point[1] = img_height - 1 - start_point[1]\n",
        "            end_point[1] = img_height - 1 - end_point[1]\n",
        "\n",
        "            line_segments.append(np.concatenate((start_point/10, end_point/10))) # dividing by 10 for scaling\n",
        "\n",
        "    df = pd.DataFrame(line_segments)\n",
        "    return df\n",
        "\n",
        "img_height = im.shape[0]\n",
        "\n",
        "# Assuming contours are already calculated\n",
        "# contours, hierarchy = cv.findContours(...)\n",
        "\n",
        "# Convert contours to CSV format\n",
        "csv_data_from_contours = contours_to_csv(contours, img_height)\n",
        "\n",
        "# Specify the output path for the CSV file\n",
        "output_csv_path = 'converted_contours.csv'\n",
        "\n",
        "# Write the DataFrame to a CSV file\n",
        "csv_data_from_contours.to_csv(output_csv_path, index=False)\n",
        "\n",
        "print(f\"Contours data saved to {output_csv_path}\")"
      ]
    },
    {
      "cell_type": "code",
      "execution_count": null,
      "id": "4a12846d",
      "metadata": {},
      "outputs": [],
      "source": []
    }
  ],
  "metadata": {
    "kernelspec": {
      "display_name": "Python 3 (ipykernel)",
      "language": "python",
      "name": "python3"
    },
    "language_info": {
      "codemirror_mode": {
        "name": "ipython",
        "version": 3
      },
      "file_extension": ".py",
      "mimetype": "text/x-python",
      "name": "python",
      "nbconvert_exporter": "python",
      "pygments_lexer": "ipython3",
      "version": "3.11.5"
    }
  },
  "nbformat": 4,
  "nbformat_minor": 5
}
