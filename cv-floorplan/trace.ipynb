{
 "cells": [
  {
   "cell_type": "code",
   "execution_count": 1,
   "metadata": {},
   "outputs": [
    {
     "name": "stdout",
     "output_type": "stream",
     "text": [
      "Contour image saved. Please use a vectorization tool like potrace to convert it into SVG with straight lines only.\n"
     ]
    }
   ],
   "source": [
    "import cv2\n",
    "import numpy as np\n",
    "\n",
    "# Load the image in grayscale\n",
    "file_path = './originaldfp_E2_3.png'\n",
    "image = cv2.imread(file_path, cv2.IMREAD_GRAYSCALE)\n",
    "\n",
    "# Threshold the image\n",
    "_, binary = cv2.threshold(image, 128, 255, cv2.THRESH_BINARY_INV)\n",
    "\n",
    "# Find contours\n",
    "contours, _ = cv2.findContours(binary, cv2.RETR_EXTERNAL, cv2.CHAIN_APPROX_SIMPLE)\n",
    "\n",
    "# Approximate contours with straight lines\n",
    "approx_contours = [cv2.approxPolyDP(cnt, 3, True) for cnt in contours]\n",
    "\n",
    "# Create an empty image to draw contours on\n",
    "contour_image = np.zeros_like(image)\n",
    "\n",
    "# Draw the contours\n",
    "cv2.drawContours(contour_image, approx_contours, -1, (255, 0, 0), 1)\n",
    "\n",
    "# Save the contour image\n",
    "cv2.imwrite('traced_image.png', contour_image)\n",
    "\n",
    "# This image can now be traced by a vectorization tool like potrace.\n",
    "print('Contour image saved. Please use a vectorization tool like potrace to convert it into SVG with straight lines only.')\n"
   ]
  }
 ],
 "metadata": {
  "kernelspec": {
   "display_name": "Python 3",
   "language": "python",
   "name": "python3"
  },
  "language_info": {
   "codemirror_mode": {
    "name": "ipython",
    "version": 3
   },
   "file_extension": ".py",
   "mimetype": "text/x-python",
   "name": "python",
   "nbconvert_exporter": "python",
   "pygments_lexer": "ipython3",
   "version": "3.11.5"
  }
 },
 "nbformat": 4,
 "nbformat_minor": 2
}
