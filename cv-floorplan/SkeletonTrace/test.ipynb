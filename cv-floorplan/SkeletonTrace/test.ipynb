{
 "cells": [
  {
   "cell_type": "code",
   "execution_count": 9,
   "metadata": {},
   "outputs": [],
   "source": [
    "import numpy as np\n",
    "import matplotlib.pyplot as plt\n",
    "import cv2\n",
    "from scipy.optimize import minimize\n",
    "from scipy.ndimage import map_coordinates\n",
    "\n",
    "img = cv2.imread('reassembled_E2_2.png', cv2.IMREAD_GRAYSCALE)\n",
    "img = ((img>100)*255).astype('uint8')\n",
    "n = 20\n",
    "\n",
    "img = cv2.dilate(img, np.ones((n+5,n+5)))\n",
    "img = cv2.blur(img, (n+1,n+1)) "
   ]
  },
  {
   "cell_type": "code",
   "execution_count": 10,
   "metadata": {},
   "outputs": [],
   "source": [
    "def get_points_on_line(x):\n",
    "    p = x[:2].reshape(-1,1)\n",
    "    q = x[2:].reshape(-1,1)\n",
    "    t = np.linspace(0,1,10**3)\n",
    "    coords = t*p+(1-t)*q\n",
    "    length = np.linalg.norm(p-q)\n",
    "    values = (map_coordinates(img, coords, prefilter=False)-255*9/10)\n",
    "    value = values.mean()\n",
    "    return -value*length\n",
    "\n",
    "res = minimize(get_points_on_line, [250,200,500,700], method = 'Nelder-Mead')"
   ]
  },
  {
   "cell_type": "code",
   "execution_count": 11,
   "metadata": {},
   "outputs": [
    {
     "data": {
      "text/plain": [
       "[<matplotlib.lines.Line2D at 0x29e63f990>]"
      ]
     },
     "execution_count": 11,
     "metadata": {},
     "output_type": "execute_result"
    },
    {
     "data": {
      "image/png": "[encoded data removed]",
      "text/plain": [
       "<Figure size 640x480 with 1 Axes>"
      ]
     },
     "metadata": {},
     "output_type": "display_data"
    }
   ],
   "source": [
    "x = res.x\n",
    "p = x[:2].reshape(-1,1)\n",
    "q = x[2:].reshape(-1,1)\n",
    "t = np.linspace(0,1,10**3)\n",
    "coords = t*p+(1-t)*q\n",
    "\n",
    "plt.imshow(img, cmap='gray')\n",
    "plt.plot(coords[1], coords[0])"
   ]
  }
 ],
 "metadata": {
  "kernelspec": {
   "display_name": "Python 3",
   "language": "python",
   "name": "python3"
  },
  "language_info": {
   "codemirror_mode": {
    "name": "ipython",
    "version": 3
   },
   "file_extension": ".py",
   "mimetype": "text/x-python",
   "name": "python",
   "nbconvert_exporter": "python",
   "pygments_lexer": "ipython3",
   "version": "3.11.5"
  }
 },
 "nbformat": 4,
 "nbformat_minor": 2
}
